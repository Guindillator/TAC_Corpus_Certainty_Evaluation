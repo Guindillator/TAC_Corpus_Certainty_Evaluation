{
 "cells": [
  {
   "cell_type": "markdown",
   "metadata": {},
   "source": [
    "# Sample Size Calculation"
   ]
  },
  {
   "attachments": {
    "sample-size-equation.png": {
     "image/png": "[encoded data removed]"
    }
   },
   "cell_type": "markdown",
   "metadata": {},
   "source": [
    "Using this formula:\n",
    "\n",
    "Population Size = N  |   Margin of error = e  |   z-score = z\n",
    "\n",
    "e is percentage, put into decimal form (for example, 3% = 0.03).\n",
    "\n",
    "The z-score is the number of standard deviations a given proportion is away from the mean.\n",
    "![sample-size-equation.png](attachment:sample-size-equation.png)"
   ]
  },
  {
   "cell_type": "code",
   "execution_count": 4,
   "metadata": {},
   "outputs": [
    {
     "name": "stdout",
     "output_type": "stream",
     "text": [
      "SAMPLE SIZE: 96\n"
     ]
    }
   ],
   "source": [
    "import math\n",
    " \n",
    "# SUPPORTED CONFIDENCE LEVELS: 50%, 68%, 90%, 95%, and 99%\n",
    "confidence_level_constant = [50,.67], [68,.99], [90,1.64], [95,1.96], [99,2.57]\n",
    " \n",
    "# CALCULATE THE SAMPLE SIZE\n",
    "def sample_size(population_size, confidence_level, confidence_interval):\n",
    "  Z = 0.0\n",
    "  p = 0.5\n",
    "  e = confidence_interval/100.0\n",
    "  N = population_size\n",
    "  n_0 = 0.0\n",
    "  n = 0.0\n",
    " \n",
    "  # LOOP THROUGH SUPPORTED CONFIDENCE LEVELS AND FIND THE NUM STD\n",
    "  # DEVIATIONS FOR THAT CONFIDENCE LEVEL\n",
    "  for i in confidence_level_constant:\n",
    "    if i[0] == confidence_level:\n",
    "      Z = i[1]\n",
    " \n",
    "  if Z == 0.0:\n",
    "    return -1\n",
    " \n",
    "  # CALC SAMPLE SIZE\n",
    "  n_0 = ((Z**2) * p * (1-p)) / (e**2)\n",
    " \n",
    "  # ADJUST SAMPLE SIZE FOR FINITE POPULATION\n",
    "  n = n_0 / (1 + ((n_0 - 1) / float(N)) )\n",
    " \n",
    "  return int(math.ceil(n)) # THE SAMPLE SIZE\n",
    " \n",
    "def main():\n",
    "  sample_sz = 0\n",
    "  population_sz = 100000\n",
    "  confidence_level = 95.0\n",
    "  confidence_interval = 10.0\n",
    " \n",
    "  sample_sz = sample_size(population_sz, confidence_level, confidence_interval)\n",
    " \n",
    "  print \"SAMPLE SIZE: %d\" % sample_sz\n",
    " \n",
    "if __name__ == \"__main__\":\n",
    "  main()"
   ]
  },
  {
   "cell_type": "markdown",
   "metadata": {},
   "source": [
    "If we need at least 96 answer per statement and we want to meause about at least 500 statements, we need:\n"
   ]
  },
  {
   "cell_type": "code",
   "execution_count": 18,
   "metadata": {},
   "outputs": [
    {
     "name": "stdout",
     "output_type": "stream",
     "text": [
      "we need 1600 participants\n"
     ]
    }
   ],
   "source": [
    "x = (96*500)/30\n",
    "print \"we need %s participants\"%(x)"
   ]
  },
  {
   "cell_type": "markdown",
   "metadata": {},
   "source": [
    "In case that we only look for the simple size on the whole survey. We will get only 6 answer per statement."
   ]
  },
  {
   "cell_type": "code",
   "execution_count": 22,
   "metadata": {},
   "outputs": [
    {
     "name": "stdout",
     "output_type": "stream",
     "text": [
      "Each statement will be answered 6 times\n"
     ]
    }
   ],
   "source": [
    "x = (30*100)/500\n",
    "print \"Each statement will be answered %s times\"%(x)"
   ]
  },
  {
   "cell_type": "code",
   "execution_count": null,
   "metadata": {},
   "outputs": [],
   "source": []
  }
 ],
 "metadata": {
  "kernelspec": {
   "display_name": "Python 2",
   "language": "python",
   "name": "python2"
  },
  "language_info": {
   "codemirror_mode": {
    "name": "ipython",
    "version": 2
   },
   "file_extension": ".py",
   "mimetype": "text/x-python",
   "name": "python",
   "nbconvert_exporter": "python",
   "pygments_lexer": "ipython2",
   "version": "2.7.12"
  }
 },
 "nbformat": 4,
 "nbformat_minor": 2
}
